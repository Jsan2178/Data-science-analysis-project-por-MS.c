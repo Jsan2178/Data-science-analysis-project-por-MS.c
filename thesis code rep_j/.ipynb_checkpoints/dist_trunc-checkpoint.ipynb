{
 "cells": [
  {
   "cell_type": "code",
   "execution_count": 2,
   "id": "73b8ca4d-c010-4d1a-a538-1cffb1fd6086",
   "metadata": {
    "tags": []
   },
   "outputs": [
    {
     "name": "stdout",
     "output_type": "stream",
     "text": [
      "Writing dist_trunc.py\n"
     ]
    }
   ],
   "source": [
    "\n",
    "%%writefile dist_trunc.py\n",
    "\n",
    "#FILE FOR DISTRIBUTIONS \n",
    "\n",
    "# Uniform \n",
    "import numpy as np \n",
    "import matplotlib.pyplot as plt\n",
    "from scipy.stats import uniform \n",
    "\n",
    "\n",
    "############## UNIFORM DISTRIBUTION ##################\n",
    "def dist_uniform(a,b,c):\n",
    "    dist = uniform(a,b)\n",
    "    samples = dist.rvs(size=c) \n",
    "    return samples\n",
    "\n",
    "############################ WEIBULL ##########################\n",
    "from scipy.stats import weibull_min\n",
    "def weibull_trunc(k, a, b, n, p=0.999, loc=0.0): #n number of samples c is for the compact support so por a,b<0 you need c<0, thus c>a\n",
    "    #Parameters de la Weibull (k,lam >0):\n",
    "      # k-> shape  (= 1.14)\n",
    "      #lam -> scale  (9)\n",
    "      # truncated limits a, b\n",
    "    if k <= 0:            raise ValueError(\"k must be > 0.\")\n",
    "    if not (a < b):       raise ValueError(\"it needs a < b.\")\n",
    "    if a < loc:           raise ValueError(f\"'a' ({a}) < loc ({loc}). adjust 'loc' or range [a,b].\")\n",
    "    lam = (b - a) / (-np.log(1 - p))**(1.0 / k) #this ensures we'll have values for any range with lam scale\n",
    "    # weibull original\n",
    "    wb = weibull_min(k, scale=lam, loc=loc)\n",
    "    \n",
    "    #CDF on the limits\n",
    "    Fa, Fb = wb.cdf(a), wb.cdf(b)         # for pdf: f_trunc(x) = f(x)/(F(b)-F(a))\n",
    "    #Z = Fb - Fa                             # normalization\n",
    "    \n",
    "    if not (0.0 <= Fa < Fb <= 1.0):\n",
    "        raise ValueError(f\"Rango without mass: F(a)={Fa:.3g}, F(b)={Fb:.3g}. Check [a,b] y 'loc'.\")\n",
    "\n",
    "    #Generate samples\n",
    "    U = np.random.rand(n)\n",
    "    samples = wb.ppf(Fa + U*(Fb-Fa))         \n",
    "    return samples\n",
    "\n",
    "#############################  GAMMA ##################################\n",
    "from scipy.stats import gamma\n",
    "from scipy.special import gammaincinv\n",
    "def gamma_trunc(k, lo, hi, n, p=0.99): #n number of samples \n",
    "    #Parameters de la Gamma:\n",
    "      # k-> shape  (= 1.14)\n",
    "      #alpha -> scale  \n",
    "      # truncated limits a, b\n",
    "    if k <= 0:\n",
    "        raise ValueError(\"k must be > 0.\")\n",
    "    if not (lo < hi):\n",
    "        raise ValueError(\"it needs a < b.\")\n",
    "    alpha = (hi-lo)/gammaincinv(k,p) #Scale for F(b) approx p so we can have negative values also\n",
    "    # gamma original\n",
    "    gam = gamma(a=k, scale=alpha, loc=lo)\n",
    "    \n",
    "    #CDF on the limits\n",
    "    Fa, Fb = gam.cdf(lo), gam.cdf(hi)         # for pdf: f_trunc(x) = f(x)/(F(b)-F(a))\n",
    "    #Z = Fb - Fa                             # normalization\n",
    "    if Fa >= Fb:\n",
    "        raise ValueError(\"The range [a,b] doesn't have mass probability\")\n",
    "    #Generate samples\n",
    "    U = np.random.rand(n)\n",
    "    samples = gam.ppf(Fa + U*(Fb-Fa))         \n",
    "    return samples\n",
    "\n",
    "\n",
    "########################### GAUSSIAN #####################################################\n",
    "from scipy.stats import truncnorm\n",
    "def trunc_norm_sample(a, b, samples): #a & b limits\n",
    "    k=0.2 #standard deviation percent to choose from a given range\n",
    "    mean, de= (a+b)/2 , k*(b-a)\n",
    "    a_est, b_est =(a-mean)/de, (b-mean)/de  #fixed range as we want [a,b].\n",
    "    data = truncnorm.rvs(a_est, b_est, loc=mean, scale=de, size=samples)\n",
    "    return data\n"
   ]
  },
  {
   "cell_type": "code",
   "execution_count": null,
   "id": "699850af-4051-4e8c-a1f0-caf0520f561b",
   "metadata": {},
   "outputs": [],
   "source": []
  }
 ],
 "metadata": {
  "kernelspec": {
   "display_name": "Python 3 (ipykernel)",
   "language": "python",
   "name": "python3"
  },
  "language_info": {
   "codemirror_mode": {
    "name": "ipython",
    "version": 3
   },
   "file_extension": ".py",
   "mimetype": "text/x-python",
   "name": "python",
   "nbconvert_exporter": "python",
   "pygments_lexer": "ipython3",
   "version": "3.11.5"
  }
 },
 "nbformat": 4,
 "nbformat_minor": 5
}
