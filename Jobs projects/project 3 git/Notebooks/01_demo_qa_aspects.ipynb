{
 "cells": [
  {
   "cell_type": "markdown",
   "id": "8943d547-01b8-480b-88dd-42d13728bba8",
   "metadata": {},
   "source": [
    "### Import and paths"
   ]
  },
  {
   "cell_type": "code",
   "execution_count": 50,
   "id": "0124e83a-1a1c-4405-9cbd-fb199ef14011",
   "metadata": {
    "tags": []
   },
   "outputs": [],
   "source": [
    "#required libraries imported from the same carpet\n",
    "import sys, os, numpy as np\n",
    "import google.generativeai as genai\n",
    "import pandas as pd\n",
    "from src.dataio import load_reviews, build_corpus\n",
    "from src.retriever import Retriever\n",
    "from src.qa import build_answer\n",
    "from src.aspects import tag_aspects, aggregate_aspects\n",
    "from src.embed_index import build_embeddings, load_embedding_model, VectorIndex"
   ]
  },
  {
   "cell_type": "code",
   "execution_count": 29,
   "id": "bd67959e-cfb9-4827-bf97-d7549c02a43f",
   "metadata": {
    "tags": []
   },
   "outputs": [],
   "source": [
    "#add the path to the file\n",
    "csv_path=\"data/1429_1.csv\"  \n",
    "\n",
    "#------------------------------or use this ---------------------\n",
    "# import os\n",
    "# # path (full dataset  that user must place)\n",
    "\n",
    "# PATH = \"data/1429_1.csv\"        # <- User use this by default\n",
    "\n",
    "# if os.path.exists(PATH):\n",
    "#     CSV_PATH = PATH\n",
    "#     print(f\"Using full dataset : {PATH}\")\n",
    "# else:\n",
    "#     raise FileNotFoundError(\n",
    "#         \"Didn't find 'data/1429_1.csv' \"\n",
    "#         \"Place your CSV on data/ and named '1429_1.csv', or add a sample.\"\n",
    "#     )"
   ]
  },
  {
   "cell_type": "markdown",
   "id": "59f83c33-bf44-4811-a0ca-e2b162fd647b",
   "metadata": {},
   "source": [
    "### Load and build corpus"
   ]
  },
  {
   "cell_type": "code",
   "execution_count": 30,
   "id": "1a325e98-ea45-4bc0-8f47-c845558ccbba",
   "metadata": {
    "tags": []
   },
   "outputs": [
    {
     "name": "stdout",
     "output_type": "stream",
     "text": [
      "['id', 'product', 'asins', 'brand', 'categories', 'keys', 'manufacturer', 'reviews.date', 'reviews.dateAdded', 'reviews.dateSeen', 'reviews.didPurchase', 'reviews.doRecommend', 'reviews.id', 'reviews.numHelpful', 'rating', 'reviews.sourceURLs', 'text', 'reviews.title', 'reviews.userCity', 'reviews.userProvince', 'reviews.username']\n"
     ]
    },
    {
     "name": "stderr",
     "output_type": "stream",
     "text": [
      "D:\\Santi\\Documents\\Jobs projects\\Project3\\src\\dataio.py:7: DtypeWarning: Columns (1,10) have mixed types. Specify dtype option on import or set low_memory=False.\n",
      "  df=pd.read_csv(csv_path)\n"
     ]
    },
    {
     "data": {
      "text/html": [
       "<div>\n",
       "<style scoped>\n",
       "    .dataframe tbody tr th:only-of-type {\n",
       "        vertical-align: middle;\n",
       "    }\n",
       "\n",
       "    .dataframe tbody tr th {\n",
       "        vertical-align: top;\n",
       "    }\n",
       "\n",
       "    .dataframe thead th {\n",
       "        text-align: right;\n",
       "    }\n",
       "</style>\n",
       "<table border=\"1\" class=\"dataframe\">\n",
       "  <thead>\n",
       "    <tr style=\"text-align: right;\">\n",
       "      <th></th>\n",
       "      <th>id</th>\n",
       "      <th>product</th>\n",
       "      <th>asins</th>\n",
       "      <th>brand</th>\n",
       "      <th>categories</th>\n",
       "      <th>keys</th>\n",
       "      <th>manufacturer</th>\n",
       "      <th>reviews.date</th>\n",
       "      <th>reviews.dateAdded</th>\n",
       "      <th>reviews.dateSeen</th>\n",
       "      <th>...</th>\n",
       "      <th>reviews.doRecommend</th>\n",
       "      <th>reviews.id</th>\n",
       "      <th>reviews.numHelpful</th>\n",
       "      <th>rating</th>\n",
       "      <th>reviews.sourceURLs</th>\n",
       "      <th>text</th>\n",
       "      <th>reviews.title</th>\n",
       "      <th>reviews.userCity</th>\n",
       "      <th>reviews.userProvince</th>\n",
       "      <th>reviews.username</th>\n",
       "    </tr>\n",
       "  </thead>\n",
       "  <tbody>\n",
       "    <tr>\n",
       "      <th>0</th>\n",
       "      <td>AVqkIhwDv8e3D1O-lebb</td>\n",
       "      <td>All-New Fire HD 8 Tablet, 8 HD Display, Wi-Fi,...</td>\n",
       "      <td>B01AHB9CN2</td>\n",
       "      <td>Amazon</td>\n",
       "      <td>Electronics,iPad &amp; Tablets,All Tablets,Fire Ta...</td>\n",
       "      <td>841667104676,amazon/53004484,amazon/b01ahb9cn2...</td>\n",
       "      <td>Amazon</td>\n",
       "      <td>2017-01-13T00:00:00.000Z</td>\n",
       "      <td>2017-07-03T23:33:15Z</td>\n",
       "      <td>2017-06-07T09:04:00.000Z,2017-04-30T00:45:00.000Z</td>\n",
       "      <td>...</td>\n",
       "      <td>True</td>\n",
       "      <td>NaN</td>\n",
       "      <td>0.0</td>\n",
       "      <td>5.0</td>\n",
       "      <td>http://reviews.bestbuy.com/3545/5620406/review...</td>\n",
       "      <td>This product so far has not disappointed. My c...</td>\n",
       "      <td>Kindle</td>\n",
       "      <td>NaN</td>\n",
       "      <td>NaN</td>\n",
       "      <td>Adapter</td>\n",
       "    </tr>\n",
       "    <tr>\n",
       "      <th>1</th>\n",
       "      <td>AVqkIhwDv8e3D1O-lebb</td>\n",
       "      <td>All-New Fire HD 8 Tablet, 8 HD Display, Wi-Fi,...</td>\n",
       "      <td>B01AHB9CN2</td>\n",
       "      <td>Amazon</td>\n",
       "      <td>Electronics,iPad &amp; Tablets,All Tablets,Fire Ta...</td>\n",
       "      <td>841667104676,amazon/53004484,amazon/b01ahb9cn2...</td>\n",
       "      <td>Amazon</td>\n",
       "      <td>2017-01-13T00:00:00.000Z</td>\n",
       "      <td>2017-07-03T23:33:15Z</td>\n",
       "      <td>2017-06-07T09:04:00.000Z,2017-04-30T00:45:00.000Z</td>\n",
       "      <td>...</td>\n",
       "      <td>True</td>\n",
       "      <td>NaN</td>\n",
       "      <td>0.0</td>\n",
       "      <td>5.0</td>\n",
       "      <td>http://reviews.bestbuy.com/3545/5620406/review...</td>\n",
       "      <td>great for beginner or experienced person. Boug...</td>\n",
       "      <td>very fast</td>\n",
       "      <td>NaN</td>\n",
       "      <td>NaN</td>\n",
       "      <td>truman</td>\n",
       "    </tr>\n",
       "  </tbody>\n",
       "</table>\n",
       "<p>2 rows × 21 columns</p>\n",
       "</div>"
      ],
      "text/plain": [
       "                     id                                            product  \\\n",
       "0  AVqkIhwDv8e3D1O-lebb  All-New Fire HD 8 Tablet, 8 HD Display, Wi-Fi,...   \n",
       "1  AVqkIhwDv8e3D1O-lebb  All-New Fire HD 8 Tablet, 8 HD Display, Wi-Fi,...   \n",
       "\n",
       "        asins   brand                                         categories  \\\n",
       "0  B01AHB9CN2  Amazon  Electronics,iPad & Tablets,All Tablets,Fire Ta...   \n",
       "1  B01AHB9CN2  Amazon  Electronics,iPad & Tablets,All Tablets,Fire Ta...   \n",
       "\n",
       "                                                keys manufacturer  \\\n",
       "0  841667104676,amazon/53004484,amazon/b01ahb9cn2...       Amazon   \n",
       "1  841667104676,amazon/53004484,amazon/b01ahb9cn2...       Amazon   \n",
       "\n",
       "               reviews.date     reviews.dateAdded  \\\n",
       "0  2017-01-13T00:00:00.000Z  2017-07-03T23:33:15Z   \n",
       "1  2017-01-13T00:00:00.000Z  2017-07-03T23:33:15Z   \n",
       "\n",
       "                                    reviews.dateSeen  ... reviews.doRecommend  \\\n",
       "0  2017-06-07T09:04:00.000Z,2017-04-30T00:45:00.000Z  ...                True   \n",
       "1  2017-06-07T09:04:00.000Z,2017-04-30T00:45:00.000Z  ...                True   \n",
       "\n",
       "  reviews.id  reviews.numHelpful  rating  \\\n",
       "0        NaN                 0.0     5.0   \n",
       "1        NaN                 0.0     5.0   \n",
       "\n",
       "                                  reviews.sourceURLs  \\\n",
       "0  http://reviews.bestbuy.com/3545/5620406/review...   \n",
       "1  http://reviews.bestbuy.com/3545/5620406/review...   \n",
       "\n",
       "                                                text reviews.title  \\\n",
       "0  This product so far has not disappointed. My c...        Kindle   \n",
       "1  great for beginner or experienced person. Boug...     very fast   \n",
       "\n",
       "  reviews.userCity  reviews.userProvince  reviews.username  \n",
       "0              NaN                   NaN           Adapter  \n",
       "1              NaN                   NaN            truman  \n",
       "\n",
       "[2 rows x 21 columns]"
      ]
     },
     "execution_count": 30,
     "metadata": {},
     "output_type": "execute_result"
    }
   ],
   "source": [
    "df=load_reviews(csv_path)\n",
    "print(df.columns.tolist())\n",
    "df.head(2)"
   ]
  },
  {
   "cell_type": "code",
   "execution_count": 62,
   "id": "e1340573-5a99-4638-8f8d-8090309a9439",
   "metadata": {
    "tags": []
   },
   "outputs": [
    {
     "name": "stdout",
     "output_type": "stream",
     "text": [
      "len of corpus: 29107, shape: (29107, 3)\n"
     ]
    },
    {
     "data": {
      "text/html": [
       "<div>\n",
       "<style scoped>\n",
       "    .dataframe tbody tr th:only-of-type {\n",
       "        vertical-align: middle;\n",
       "    }\n",
       "\n",
       "    .dataframe tbody tr th {\n",
       "        vertical-align: top;\n",
       "    }\n",
       "\n",
       "    .dataframe thead th {\n",
       "        text-align: right;\n",
       "    }\n",
       "</style>\n",
       "<table border=\"1\" class=\"dataframe\">\n",
       "  <thead>\n",
       "    <tr style=\"text-align: right;\">\n",
       "      <th></th>\n",
       "      <th>product</th>\n",
       "      <th>rating</th>\n",
       "      <th>chunk</th>\n",
       "    </tr>\n",
       "  </thead>\n",
       "  <tbody>\n",
       "    <tr>\n",
       "      <th>0</th>\n",
       "      <td>All-New Fire HD 8 Tablet, 8 HD Display, Wi-Fi,...</td>\n",
       "      <td>5.0</td>\n",
       "      <td>This product so far has not disappointed. My c...</td>\n",
       "    </tr>\n",
       "    <tr>\n",
       "      <th>1</th>\n",
       "      <td>All-New Fire HD 8 Tablet, 8 HD Display, Wi-Fi,...</td>\n",
       "      <td>5.0</td>\n",
       "      <td>great for beginner or experienced person. Boug...</td>\n",
       "    </tr>\n",
       "    <tr>\n",
       "      <th>2</th>\n",
       "      <td>All-New Fire HD 8 Tablet, 8 HD Display, Wi-Fi,...</td>\n",
       "      <td>5.0</td>\n",
       "      <td>Inexpensive tablet for him to use and learn on...</td>\n",
       "    </tr>\n",
       "    <tr>\n",
       "      <th>3</th>\n",
       "      <td>All-New Fire HD 8 Tablet, 8 HD Display, Wi-Fi,...</td>\n",
       "      <td>4.0</td>\n",
       "      <td>I've had my Fire HD 8 two weeks now and I love...</td>\n",
       "    </tr>\n",
       "    <tr>\n",
       "      <th>4</th>\n",
       "      <td>All-New Fire HD 8 Tablet, 8 HD Display, Wi-Fi,...</td>\n",
       "      <td>4.0</td>\n",
       "      <td>glossy feel on the back it is really amazing t...</td>\n",
       "    </tr>\n",
       "  </tbody>\n",
       "</table>\n",
       "</div>"
      ],
      "text/plain": [
       "                                             product  rating  \\\n",
       "0  All-New Fire HD 8 Tablet, 8 HD Display, Wi-Fi,...     5.0   \n",
       "1  All-New Fire HD 8 Tablet, 8 HD Display, Wi-Fi,...     5.0   \n",
       "2  All-New Fire HD 8 Tablet, 8 HD Display, Wi-Fi,...     5.0   \n",
       "3  All-New Fire HD 8 Tablet, 8 HD Display, Wi-Fi,...     4.0   \n",
       "4  All-New Fire HD 8 Tablet, 8 HD Display, Wi-Fi,...     4.0   \n",
       "\n",
       "                                               chunk  \n",
       "0  This product so far has not disappointed. My c...  \n",
       "1  great for beginner or experienced person. Boug...  \n",
       "2  Inexpensive tablet for him to use and learn on...  \n",
       "3  I've had my Fire HD 8 two weeks now and I love...  \n",
       "4  glossy feel on the back it is really amazing t...  "
      ]
     },
     "execution_count": 62,
     "metadata": {},
     "output_type": "execute_result"
    }
   ],
   "source": [
    "corpus=build_corpus(df, max_chars=500)\n",
    "print(f\"len of corpus: {len(corpus)}, shape: {corpus.shape}\")\n",
    "corpus.head(5)\n"
   ]
  },
  {
   "cell_type": "markdown",
   "id": "236aeb45-d97e-482b-935f-1688e37b7e94",
   "metadata": {},
   "source": [
    "### Create retriever"
   ]
  },
  {
   "cell_type": "code",
   "execution_count": 32,
   "id": "4f6d43ff-0bad-4f78-9e79-27b679fa8aa1",
   "metadata": {
    "tags": []
   },
   "outputs": [
    {
     "name": "stderr",
     "output_type": "stream",
     "text": [
      "Batches: 100%|███████████████████████████████████████████████████████████████████████| 910/910 [04:24<00:00,  3.44it/s]\n"
     ]
    }
   ],
   "source": [
    "retriever = Retriever(corpus, model_name=\"sentence-transformers/all-MiniLM-L6-v2\")"
   ]
  },
  {
   "cell_type": "code",
   "execution_count": 40,
   "id": "23268ca0-f48c-4da5-9ca0-d6101da3edb0",
   "metadata": {
    "tags": []
   },
   "outputs": [
    {
     "name": "stdout",
     "output_type": "stream",
     "text": [
      "29107\n"
     ]
    }
   ],
   "source": [
    "print(len(corpus))"
   ]
  },
  {
   "cell_type": "markdown",
   "id": "ed161c2a-c4f4-42f6-a17d-9ca66cced0c2",
   "metadata": {},
   "source": [
    "### Q&A and demo"
   ]
  },
  {
   "cell_type": "code",
   "execution_count": 33,
   "id": "3ba45b8b-888f-4f85-b751-f1383cc0c5c7",
   "metadata": {
    "tags": []
   },
   "outputs": [
    {
     "name": "stderr",
     "output_type": "stream",
     "text": [
      "Batches: 100%|███████████████████████████████████████████████████████████████████████████| 1/1 [00:00<00:00, 64.84it/s]"
     ]
    },
    {
     "name": "stdout",
     "output_type": "stream",
     "text": [
      "question: Does the battery long all day?\n",
      "\n",
      "Answer (based on recovered reviews):\n",
      "- My son loves it stays on it all day wish the battery would last longer\n",
      "\n",
      "-  whatever page you've been browsing lately (but might make for a good accidental parental watch/ control to see what the kids surfed last)-standby battery lasts several days, active use all day, but not like my ipad, where I could leave it on standby for weeks, shorter standby battery life for the FireI use mostly for web browsing, social media, and Kindle books. no other cons noted.\n",
      "\n",
      "- Birthday gift for wife. Her other tablet battery only lasts a hour. She wanted another one. Great tablet for the price.\n",
      "\n",
      "- Great for my 5 year old, but battery only lasts 7 hours if it's not being used!\n",
      "\n",
      "- I got this as part of the Black Friday deals and my wife really loves it for reading books on. The battery lasts several days with moderate use.\n",
      "\n",
      "- Keeps my grandkids busy all day I recharge it as they take a nap and it's ready to keep them busy all day its loaded with lots of fun games and activities for kids and adults\n"
     ]
    },
    {
     "name": "stderr",
     "output_type": "stream",
     "text": [
      "\n"
     ]
    }
   ],
   "source": [
    "product_demo = corpus[\"product\"].mode().iloc[0] #More frequent product\n",
    "question=\"Does the battery long all day?\"\n",
    "chunks=retriever.query(question, product=product_demo, top_k=6)\n",
    "print(build_answer(question, chunks)[\"answer\"][:1500])"
   ]
  },
  {
   "cell_type": "markdown",
   "id": "668105c8-1778-44d2-af95-19a538dc505b",
   "metadata": {},
   "source": [
    "### Aspects and aggregates, Aspect coverage/polarity"
   ]
  },
  {
   "cell_type": "code",
   "execution_count": 34,
   "id": "0deed90c-9bb4-49bd-b0df-36c78a1ac8b2",
   "metadata": {
    "tags": []
   },
   "outputs": [
    {
     "data": {
      "text/html": [
       "<div>\n",
       "<style scoped>\n",
       "    .dataframe tbody tr th:only-of-type {\n",
       "        vertical-align: middle;\n",
       "    }\n",
       "\n",
       "    .dataframe tbody tr th {\n",
       "        vertical-align: top;\n",
       "    }\n",
       "\n",
       "    .dataframe thead th {\n",
       "        text-align: right;\n",
       "    }\n",
       "</style>\n",
       "<table border=\"1\" class=\"dataframe\">\n",
       "  <thead>\n",
       "    <tr style=\"text-align: right;\">\n",
       "      <th></th>\n",
       "      <th>aspect</th>\n",
       "      <th>coverage</th>\n",
       "      <th>mean_polarity</th>\n",
       "      <th>n</th>\n",
       "    </tr>\n",
       "  </thead>\n",
       "  <tbody>\n",
       "    <tr>\n",
       "      <th>0</th>\n",
       "      <td>price</td>\n",
       "      <td>15.48</td>\n",
       "      <td>0.912</td>\n",
       "      <td>4506</td>\n",
       "    </tr>\n",
       "    <tr>\n",
       "      <th>1</th>\n",
       "      <td>battery</td>\n",
       "      <td>7.36</td>\n",
       "      <td>0.839</td>\n",
       "      <td>2143</td>\n",
       "    </tr>\n",
       "    <tr>\n",
       "      <th>2</th>\n",
       "      <td>quality</td>\n",
       "      <td>3.81</td>\n",
       "      <td>0.891</td>\n",
       "      <td>1109</td>\n",
       "    </tr>\n",
       "    <tr>\n",
       "      <th>3</th>\n",
       "      <td>durability</td>\n",
       "      <td>3.56</td>\n",
       "      <td>0.863</td>\n",
       "      <td>1036</td>\n",
       "    </tr>\n",
       "    <tr>\n",
       "      <th>4</th>\n",
       "      <td>shipping</td>\n",
       "      <td>0.14</td>\n",
       "      <td>0.976</td>\n",
       "      <td>41</td>\n",
       "    </tr>\n",
       "  </tbody>\n",
       "</table>\n",
       "</div>"
      ],
      "text/plain": [
       "       aspect  coverage  mean_polarity     n\n",
       "0       price     15.48          0.912  4506\n",
       "1     battery      7.36          0.839  2143\n",
       "2     quality      3.81          0.891  1109\n",
       "3  durability      3.56          0.863  1036\n",
       "4    shipping      0.14          0.976    41"
      ]
     },
     "metadata": {},
     "output_type": "display_data"
    },
    {
     "data": {
      "text/html": [
       "<div>\n",
       "<style scoped>\n",
       "    .dataframe tbody tr th:only-of-type {\n",
       "        vertical-align: middle;\n",
       "    }\n",
       "\n",
       "    .dataframe tbody tr th {\n",
       "        vertical-align: top;\n",
       "    }\n",
       "\n",
       "    .dataframe thead th {\n",
       "        text-align: right;\n",
       "    }\n",
       "</style>\n",
       "<table border=\"1\" class=\"dataframe\">\n",
       "  <thead>\n",
       "    <tr style=\"text-align: right;\">\n",
       "      <th></th>\n",
       "      <th>aspect</th>\n",
       "      <th>coverage</th>\n",
       "      <th>mean_polarity</th>\n",
       "      <th>n</th>\n",
       "    </tr>\n",
       "  </thead>\n",
       "  <tbody>\n",
       "    <tr>\n",
       "      <th>0</th>\n",
       "      <td>price</td>\n",
       "      <td>25.11</td>\n",
       "      <td>0.910</td>\n",
       "      <td>2842</td>\n",
       "    </tr>\n",
       "    <tr>\n",
       "      <th>1</th>\n",
       "      <td>battery</td>\n",
       "      <td>6.77</td>\n",
       "      <td>0.804</td>\n",
       "      <td>766</td>\n",
       "    </tr>\n",
       "    <tr>\n",
       "      <th>2</th>\n",
       "      <td>quality</td>\n",
       "      <td>3.82</td>\n",
       "      <td>0.854</td>\n",
       "      <td>432</td>\n",
       "    </tr>\n",
       "    <tr>\n",
       "      <th>3</th>\n",
       "      <td>durability</td>\n",
       "      <td>3.47</td>\n",
       "      <td>0.837</td>\n",
       "      <td>393</td>\n",
       "    </tr>\n",
       "    <tr>\n",
       "      <th>4</th>\n",
       "      <td>shipping</td>\n",
       "      <td>0.18</td>\n",
       "      <td>0.950</td>\n",
       "      <td>20</td>\n",
       "    </tr>\n",
       "  </tbody>\n",
       "</table>\n",
       "</div>"
      ],
      "text/plain": [
       "       aspect  coverage  mean_polarity     n\n",
       "0       price     25.11          0.910  2842\n",
       "1     battery      6.77          0.804   766\n",
       "2     quality      3.82          0.854   432\n",
       "3  durability      3.47          0.837   393\n",
       "4    shipping      0.18          0.950    20"
      ]
     },
     "metadata": {},
     "output_type": "display_data"
    }
   ],
   "source": [
    "tagged = tag_aspects(corpus)\n",
    "agg_all=aggregate_aspects(tagged)                        #global\n",
    "agg_prod=aggregate_aspects(tagged, product_demo)         #per product demo\n",
    "display(agg_all)\n",
    "display(agg_prod)"
   ]
  },
  {
   "cell_type": "code",
   "execution_count": 39,
   "id": "6673a95b-e635-4934-81f7-096f5b3d979e",
   "metadata": {
    "tags": []
   },
   "outputs": [
    {
     "data": {
      "text/html": [
       "<div>\n",
       "<style scoped>\n",
       "    .dataframe tbody tr th:only-of-type {\n",
       "        vertical-align: middle;\n",
       "    }\n",
       "\n",
       "    .dataframe tbody tr th {\n",
       "        vertical-align: top;\n",
       "    }\n",
       "\n",
       "    .dataframe thead th {\n",
       "        text-align: right;\n",
       "    }\n",
       "</style>\n",
       "<table border=\"1\" class=\"dataframe\">\n",
       "  <thead>\n",
       "    <tr style=\"text-align: right;\">\n",
       "      <th></th>\n",
       "      <th>aspect</th>\n",
       "      <th>coverage</th>\n",
       "      <th>mean_polarity</th>\n",
       "      <th>n</th>\n",
       "      <th>coverage_frac</th>\n",
       "      <th>abs_polarity</th>\n",
       "    </tr>\n",
       "  </thead>\n",
       "  <tbody>\n",
       "    <tr>\n",
       "      <th>0</th>\n",
       "      <td>price</td>\n",
       "      <td>15.48</td>\n",
       "      <td>0.912</td>\n",
       "      <td>4506</td>\n",
       "      <td>0.1548</td>\n",
       "      <td>0.912</td>\n",
       "    </tr>\n",
       "    <tr>\n",
       "      <th>1</th>\n",
       "      <td>battery</td>\n",
       "      <td>7.36</td>\n",
       "      <td>0.839</td>\n",
       "      <td>2143</td>\n",
       "      <td>0.0736</td>\n",
       "      <td>0.839</td>\n",
       "    </tr>\n",
       "    <tr>\n",
       "      <th>2</th>\n",
       "      <td>quality</td>\n",
       "      <td>3.81</td>\n",
       "      <td>0.891</td>\n",
       "      <td>1109</td>\n",
       "      <td>0.0381</td>\n",
       "      <td>0.891</td>\n",
       "    </tr>\n",
       "    <tr>\n",
       "      <th>3</th>\n",
       "      <td>durability</td>\n",
       "      <td>3.56</td>\n",
       "      <td>0.863</td>\n",
       "      <td>1036</td>\n",
       "      <td>0.0356</td>\n",
       "      <td>0.863</td>\n",
       "    </tr>\n",
       "    <tr>\n",
       "      <th>4</th>\n",
       "      <td>shipping</td>\n",
       "      <td>0.14</td>\n",
       "      <td>0.976</td>\n",
       "      <td>41</td>\n",
       "      <td>0.0014</td>\n",
       "      <td>0.976</td>\n",
       "    </tr>\n",
       "  </tbody>\n",
       "</table>\n",
       "</div>"
      ],
      "text/plain": [
       "       aspect  coverage  mean_polarity     n  coverage_frac  abs_polarity\n",
       "0       price     15.48          0.912  4506         0.1548         0.912\n",
       "1     battery      7.36          0.839  2143         0.0736         0.839\n",
       "2     quality      3.81          0.891  1109         0.0381         0.891\n",
       "3  durability      3.56          0.863  1036         0.0356         0.863\n",
       "4    shipping      0.14          0.976    41         0.0014         0.976"
      ]
     },
     "metadata": {},
     "output_type": "display_data"
    },
    {
     "name": "stdout",
     "output_type": "stream",
     "text": [
      "Aspect coverage (sum): 0.304\n",
      "Most mentioned aspect: {'aspect': 'price', 'coverage': 15.48, 'mean_polarity': 0.912, 'n': 4506, 'coverage_frac': 0.1548, 'abs_polarity': 0.912}\n"
     ]
    }
   ],
   "source": [
    "#aspects metrics summary(global)\n",
    "display(agg_all)\n",
    "\n",
    "# Optional: normalize coverage to fraction and compute simple \"balance\"\n",
    "agg_all[\"coverage_frac\"] = agg_all[\"coverage\"] / 100.0\n",
    "agg_all[\"abs_polarity\"] = agg_all[\"mean_polarity\"].abs()\n",
    "print(\"Aspect coverage (sum):\", round(agg_all[\"coverage_frac\"].sum(), 3))\n",
    "print(\"Most mentioned aspect:\", agg_all.sort_values(\"coverage\", ascending=False).iloc[0].to_dict())"
   ]
  },
  {
   "cell_type": "markdown",
   "id": "e21efee4-1076-4435-baee-399149d1302a",
   "metadata": {},
   "source": [
    "### Retrieval quality- Recall@k and MRR@k(Mean Reciprocal Rank) (proxy)"
   ]
  },
  {
   "cell_type": "code",
   "execution_count": 61,
   "id": "29065edf-f897-42a2-b519-cb9671a19149",
   "metadata": {
    "tags": []
   },
   "outputs": [
    {
     "name": "stderr",
     "output_type": "stream",
     "text": [
      "Batches: 100%|███████████████████████████████████████████████████████████████████████████| 7/7 [00:02<00:00,  3.39it/s]\n"
     ]
    },
    {
     "name": "stdout",
     "output_type": "stream",
     "text": [
      "Retrieval quality (same-product proxy)\n",
      "\n",
      "{'Recall@1': 0.465, 'Recall@3': 0.76, 'Recall@5': 0.84}\n",
      "{'MRR@1': 0.465, 'MRR@3': 0.595, 'MRR@5': 0.613}\n"
     ]
    }
   ],
   "source": [
    "from sklearn.metrics.pairwise import cosine_similarity\n",
    "\n",
    "E = retriever.embeddings        # <-- here the it is the embeddings (N, d)\n",
    "model = retriever.model         # <-- and model of embeddings\n",
    "def retrieval_metrics(E_all, corpus_df, model, k_list=(1,3,5), n_probe=200, seed=42, exclude_self=True, probe_index=None):\n",
    "    #E_all embeddings of corpus (n,d)\n",
    "    #corpus \n",
    "    #model: SentenceTransformer (for embed queries)\n",
    "    #k_list: the top k you want to evaluate (top-1,top-2,top-3)\n",
    "    #n_probe: How many random queries use (subset corpus)\n",
    "    \n",
    "    rng=np.random.default_rng(seed)\n",
    "    n=len(corpus_df)\n",
    "    probe_idx=rng.choice(n, size=min(n_probe, n), replace=False)\n",
    "    #probe_idx: index(rows) random of corpus that you'll use as \"queries\"\n",
    "    \n",
    "    \n",
    "    #1) embed the probe text(queries)\n",
    "    Q=build_embeddings(corpus_df[\"chunk\"].iloc[probe_idx].tolist(), model) #matrix of embed queries\n",
    "    \n",
    "    #2)\n",
    "    S=cosine_similarity(Q,E_all)  #shape: (n_probe, n) \n",
    "    #S[i,j]: similiratity between the query i and document j of corpus\n",
    "    \n",
    "    \n",
    "    #3) ground-truth per probe: product id string\n",
    "    gt_ground=corpus_df[\"product\"].iloc[probe_idx].values\n",
    "    #gt_ground[i]: truth product of the query i\n",
    "    \n",
    "    #4)initialize counters\n",
    "    recalls={k: 0 for k in k_list}\n",
    "    mrrs={k: 0.0 for k in k_list}\n",
    "    \n",
    "    #5) loop through each query of test\n",
    "    for i, prod_q in enumerate(gt_ground):\n",
    "        #order by similarity\n",
    "        order=np.argsort(-S[i])  \n",
    "        \n",
    "        #exclude the exact same row if you want(optional)\n",
    "        if exclude_self:\n",
    "            order=order[order!=probe_idx[i]] #avoids automatch\n",
    "        \n",
    "        #products of the documents order by similarity\n",
    "        ranked_prods=corpus_df[\"product\"].iloc[order].values\n",
    "        \n",
    "        #6) search the first position where products matches with query\n",
    "        match_pos=np.where(ranked_prods==prod_q)[0] #arr positions where there are matches\n",
    "        first_hit=int(match_pos[0]) if len(match_pos) else None #first position (rank 0-based)\n",
    "        \n",
    "        #7) Update Recall@k and MRR@k for each k ordered \n",
    "        for k in k_list:\n",
    "            #Recall@k: ¿does apppear the truth product in the first k´s?\n",
    "            if prod_q in ranked_prods[:k]:\n",
    "                recalls[k]+=1\n",
    "            \n",
    "            #MRR@k: if the first match its inside the top-k, sum 1/(range+1)\n",
    "            if first_hit is not None and first_hit<k:\n",
    "                mrrs[k] += 1.0/(first_hit+1) #ranks are 0-based here\n",
    "    \n",
    "    #8) mean over the query numbers\n",
    "    nQ=len(probe_idx)\n",
    "    recall_k={f\"Recall@{k}\": round(recalls[k]/nQ, 3) for k in k_list}\n",
    "    mrr_k={f\"MRR@{k}\": round(mrrs[k]/ nQ, 3) for k in k_list}\n",
    "    return recall_k, mrr_k\n",
    "\n",
    "recall_k, mrr_k = retrieval_metrics(E, corpus, model, k_list=(1,3,5))\n",
    "print(\"Retrieval quality (same-product proxy)\\n\")\n",
    "print(recall_k)\n",
    "print(mrr_k)\n",
    "            \n",
    "    "
   ]
  },
  {
   "cell_type": "code",
   "execution_count": null,
   "id": "920cc992-0dec-4ce1-837e-2702c654a72a",
   "metadata": {},
   "outputs": [],
   "source": []
  }
 ],
 "metadata": {
  "kernelspec": {
   "display_name": "genai",
   "language": "python",
   "name": "genai"
  },
  "language_info": {
   "codemirror_mode": {
    "name": "ipython",
    "version": 3
   },
   "file_extension": ".py",
   "mimetype": "text/x-python",
   "name": "python",
   "nbconvert_exporter": "python",
   "pygments_lexer": "ipython3",
   "version": "3.10.18"
  }
 },
 "nbformat": 4,
 "nbformat_minor": 5
}
