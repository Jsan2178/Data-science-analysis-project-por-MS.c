{
 "cells": [
  {
   "cell_type": "code",
   "execution_count": 1,
   "id": "4a9b2bca-53a9-46c3-9b10-9357d0c0cc4b",
   "metadata": {
    "tags": []
   },
   "outputs": [
    {
     "name": "stdout",
     "output_type": "stream",
     "text": [
      "Overwriting ../src/retriever.py\n"
     ]
    }
   ],
   "source": [
    "%%writefile ../src/retriever.py\n",
    "\"\"\"\n",
    "retriever.py\n",
    "-  Recovery Functions: filter  by product and returns chunks top-k.\n",
    "\"\"\"\n",
    "#comment to test overwritting\n",
    "\n",
    "from __future__ import annotations\n",
    "import numpy as np\n",
    "import pandas as pd\n",
    "from typing import List, Optional\n",
    "from sentence_transformers import SentenceTransformer\n",
    "from .embed_index import VectorIndex, build_embeddings, load_embedding_model\n",
    "from sklearn.metrics.pairwise import cosine_similarity\n",
    "\n",
    "class Retriever:\n",
    "    \"\"\"\n",
    "    - Receives a corpus (DF wiht columns: 'chunk' and 'product').\n",
    "    - Creates embbedings and an index VectorIndex(cosine).\n",
    "    - query() returns the chunks top-k; opcionally filters by product.\n",
    "    \"\"\"\n",
    "    def __init__(self, corpus: pd.DataFrame, model_name: str=\"sentence-transformers/all-MiniLM-L6-v2\",) -> None:\n",
    "        if not {\"chunk\", \"product\"}.issubset(corpus.columns):\n",
    "            raise ValueError(\"Corpus must contain 'chunk' and 'product' columns\")\n",
    "        self.corpus = corpus.reset_index(drop=True)\n",
    "        self.model: SentenceTransformer = load_embedding_model(model_name)    \n",
    "        \n",
    "        #corpus embeddings (sting lists)\n",
    "        chunks: List[str] = self.corpus[\"chunk\"].astype(str).tolist() #lost of size n\n",
    "        self.embeddings = build_embeddings(chunks, self.model) #(n,d) float32 unitary\n",
    "        #index over all corpus\n",
    "        self.index=VectorIndex(self.embeddings) #index over all corpus\n",
    "\n",
    "    def query(self, question: str, product: Optional[str]=None, top_k: int=6, return_scores: bool=False):\n",
    "        # query embedding(1,d)\n",
    "        qv= build_embeddings([question], self.model)  #(n,d) float32 unitary\n",
    "        \n",
    "        #if they ask filter by product\n",
    "        if product:\n",
    "            mask = self.corpus[\"product\"].eq(product).to_numpy()  #shape(n,)\n",
    "            if mask.any():\n",
    "                vecs=self.embeddings[mask]                        #(m,d)\n",
    "                sims=cosine_similarity(qv, vecs)[0]               #(m,)\n",
    "                k = min(top_k, vecs.shape[0])\n",
    "                order = np.argsort(-sims)[:k]                     #local indices 0..m-1\n",
    "                chunks = self.corpus.loc[mask, \"chunk\"].iloc[order].tolist()\n",
    "                return (chunks, sims[order].tolist()) if return_scores else chunks\n",
    "            # if no rows for that product, fall back to full corpus\n",
    "\n",
    "        #with no filters: entire index using\n",
    "        k=min(top_k, len(self.corpus))\n",
    "        idxs, scores= self.index.search(qv, top_k=top_k)\n",
    "        chunks= self.corpus[\"chunk\"].iloc[idxs].tolist()\n",
    "        return (chunks, scores.tolist()) if return_scores else chunks #return chunk with False or chunk and score with True"
   ]
  },
  {
   "cell_type": "markdown",
   "id": "8e2a2256-2c64-4323-994d-93cd43c83e07",
   "metadata": {},
   "source": [
    "Testing the code"
   ]
  },
  {
   "cell_type": "code",
   "execution_count": 29,
   "id": "627c85b0-3b27-4375-b97f-05c90e7540c7",
   "metadata": {
    "tags": []
   },
   "outputs": [
    {
     "name": "stderr",
     "output_type": "stream",
     "text": [
      "Batches: 100%|███████████████████████████████████████████████████████████████████████████| 1/1 [00:00<00:00, 16.67it/s]\n",
      "Batches: 100%|███████████████████████████████████████████████████████████████████████████| 1/1 [00:00<00:00, 41.06it/s]\n"
     ]
    },
    {
     "name": "stdout",
     "output_type": "stream",
     "text": [
      "(['Hoy lloverá en Monterrey según el pronóstico.', 'El gato se sentó en la alfombra.', 'Un felino descansando sobre una alfombra suave.', 'Recetas fáciles de pollo a la parrilla.'], [0.5791796445846558, 0.5183272957801819, 0.4466252028942108, 0.38428571820259094])\n"
     ]
    },
    {
     "name": "stderr",
     "output_type": "stream",
     "text": [
      "Batches: 100%|███████████████████████████████████████████████████████████████████████████| 1/1 [00:00<00:00, 37.94it/s]"
     ]
    },
    {
     "name": "stdout",
     "output_type": "stream",
     "text": [
      "(['El gato se sentó en la alfombra.', 'Un felino descansando sobre una alfombra suave.'], [0.5183272957801819, 0.4466252028942108])\n"
     ]
    },
    {
     "name": "stderr",
     "output_type": "stream",
     "text": [
      "\n"
     ]
    }
   ],
   "source": [
    "import pandas as pd\n",
    "\n",
    "df = pd.DataFrame({\n",
    "    \"product\": [\"A\",\"A\",\"B\",\"B\"],\n",
    "    \"chunk\": [\n",
    "        \"El gato se sentó en la alfombra.\",\n",
    "        \"Un felino descansando sobre una alfombra suave.\",\n",
    "        \"Hoy lloverá en Monterrey según el pronóstico.\",\n",
    "        \"Recetas fáciles de pollo a la parrilla.\"\n",
    "]})\n",
    "\n",
    "ret = Retriever(df)\n",
    "\n",
    "# Global\n",
    "print(ret.query(\"lloviendo el dia de hoy en Nuevo León\", top_k=4, return_scores=True))\n",
    "# Filter by product\n",
    "print(ret.query(\"lloviendo el dia de hoy en Nuevo León\", product=\"A\", top_k=2, return_scores=True))"
   ]
  },
  {
   "cell_type": "code",
   "execution_count": 13,
   "id": "8b84e74d-2394-46c1-8552-4f1124817b09",
   "metadata": {
    "tags": []
   },
   "outputs": [
    {
     "data": {
      "text/html": [
       "<div>\n",
       "<style scoped>\n",
       "    .dataframe tbody tr th:only-of-type {\n",
       "        vertical-align: middle;\n",
       "    }\n",
       "\n",
       "    .dataframe tbody tr th {\n",
       "        vertical-align: top;\n",
       "    }\n",
       "\n",
       "    .dataframe thead th {\n",
       "        text-align: right;\n",
       "    }\n",
       "</style>\n",
       "<table border=\"1\" class=\"dataframe\">\n",
       "  <thead>\n",
       "    <tr style=\"text-align: right;\">\n",
       "      <th></th>\n",
       "      <th>product</th>\n",
       "      <th>chunk</th>\n",
       "    </tr>\n",
       "  </thead>\n",
       "  <tbody>\n",
       "    <tr>\n",
       "      <th>0</th>\n",
       "      <td>A</td>\n",
       "      <td>El gato se sentó en la alfombra.</td>\n",
       "    </tr>\n",
       "    <tr>\n",
       "      <th>1</th>\n",
       "      <td>A</td>\n",
       "      <td>Un felino descansando sobre una alfombra suave.</td>\n",
       "    </tr>\n",
       "    <tr>\n",
       "      <th>2</th>\n",
       "      <td>B</td>\n",
       "      <td>Hoy lloverá en Monterrey según el pronóstico.</td>\n",
       "    </tr>\n",
       "    <tr>\n",
       "      <th>3</th>\n",
       "      <td>B</td>\n",
       "      <td>Recetas fáciles de pollo a la parrilla.</td>\n",
       "    </tr>\n",
       "  </tbody>\n",
       "</table>\n",
       "</div>"
      ],
      "text/plain": [
       "  product                                            chunk\n",
       "0       A                 El gato se sentó en la alfombra.\n",
       "1       A  Un felino descansando sobre una alfombra suave.\n",
       "2       B    Hoy lloverá en Monterrey según el pronóstico.\n",
       "3       B          Recetas fáciles de pollo a la parrilla."
      ]
     },
     "execution_count": 13,
     "metadata": {},
     "output_type": "execute_result"
    }
   ],
   "source": [
    "df.head()"
   ]
  },
  {
   "cell_type": "code",
   "execution_count": 28,
   "id": "dcf48aa7-c342-4818-94a3-84d29e2c23c1",
   "metadata": {
    "tags": []
   },
   "outputs": [
    {
     "name": "stderr",
     "output_type": "stream",
     "text": [
      "Batches: 100%|███████████████████████████████████████████████████████████████████████████| 1/1 [00:00<00:00, 46.06it/s]\n",
      "Batches: 100%|███████████████████████████████████████████████████████████████████████████| 1/1 [00:00<00:00, 35.89it/s]"
     ]
    },
    {
     "name": "stdout",
     "output_type": "stream",
     "text": [
      "1. idx=2 | Hoy lloverá en Monterrey según el pronóstico. | score=0.780\n",
      "2. idx=0 | El gato se sentó en la alfombra. | score=0.509\n",
      "3. idx=1 | Un felino descansando sobre una alfombra suave. | score=0.467\n"
     ]
    },
    {
     "name": "stderr",
     "output_type": "stream",
     "text": [
      "\n"
     ]
    }
   ],
   "source": [
    "chunks, scores = ret.query(\"Lloviendo el día de hoy en Monterrey\", top_k=3, return_scores=True)\n",
    "\n",
    "qv= embed_index.build_embeddings([\"Lloviendo el día de hoy en Monterrey\"], ret.model)\n",
    "idxs, scs = ret.index.search(qv, top_k=3)\n",
    "\n",
    "for rank, (i,s) in enumerate(zip(idxs, scs), 1):\n",
    "    print(f\"{rank}. idx={i} | {df.loc[i, 'chunk']} | score={s:.3f}\")"
   ]
  }
 ],
 "metadata": {
  "kernelspec": {
   "display_name": "genai",
   "language": "python",
   "name": "genai"
  },
  "language_info": {
   "codemirror_mode": {
    "name": "ipython",
    "version": 3
   },
   "file_extension": ".py",
   "mimetype": "text/x-python",
   "name": "python",
   "nbconvert_exporter": "python",
   "pygments_lexer": "ipython3",
   "version": "3.10.18"
  }
 },
 "nbformat": 4,
 "nbformat_minor": 5
}
