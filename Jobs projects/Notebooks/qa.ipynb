{
 "cells": [
  {
   "cell_type": "code",
   "execution_count": 1,
   "id": "9defe286-7f56-409b-82da-ed9e1a29df5e",
   "metadata": {
    "tags": []
   },
   "outputs": [
    {
     "name": "stdout",
     "output_type": "stream",
     "text": [
      "Overwriting ../src/qa.py\n"
     ]
    }
   ],
   "source": [
    "%%writefile ../src/qa.py\n",
    "\n",
    "\"\"\"\n",
    "qa.py\n",
    "- Generates a simple answer \"grounded\" from recovered chunks.\n",
    "- For quick demo an extractive/summarized without heavy LLM is used \n",
    "\"\"\"\n",
    "#comment to test overwritting\n",
    "\n",
    "from __future__ import annotations \n",
    "from typing import List\n",
    "\n",
    "def build_answer(question: str, chunks: List[str], max_refers: int=6) -> str:\n",
    "    context = \"\\n\\n\".join(f\"- {c}\" for c in chunks[:max_refers])\n",
    "    answer= f\"question: {question}\\n\\nAnswer (based on recovered reviews):\\n{context}\"\n",
    "    return {\"answer\": answer, \"context\": context}"
   ]
  },
  {
   "cell_type": "markdown",
   "id": "12dda089-89ca-412a-b1b8-b6980ec92739",
   "metadata": {},
   "source": [
    "Testing code"
   ]
  },
  {
   "cell_type": "code",
   "execution_count": 19,
   "id": "76227b3a-dc26-4320-9164-b62dd504f967",
   "metadata": {
    "tags": []
   },
   "outputs": [
    {
     "name": "stderr",
     "output_type": "stream",
     "text": [
      "Batches: 100%|███████████████████████████████████████████████████████████████████████████| 1/1 [00:00<00:00, 12.49it/s]\n",
      "Batches: 100%|███████████████████████████████████████████████████████████████████████████| 1/1 [00:00<00:00, 20.12it/s]"
     ]
    },
    {
     "name": "stdout",
     "output_type": "stream",
     "text": [
      "{'answer': 'question: lloviendo el día de hoy en Nuevo León\\n\\nAnswer (based on recovered reviews):\\n- Hoy lloverá en Monterrey según el pronóstico.\\n\\n- El gato se sentó en la alfombra.', 'context': '- Hoy lloverá en Monterrey según el pronóstico.\\n\\n- El gato se sentó en la alfombra.'}\n",
      "\n",
      "question: lloviendo el día de hoy en Nuevo León\n",
      "\n",
      "Answer (based on recovered reviews):\n",
      "- Hoy lloverá en Monterrey según el pronóstico.\n",
      "\n",
      "- El gato se sentó en la alfombra.\n",
      "\n",
      "References:\n",
      "- Hoy lloverá en Monterrey según el pronóstico.\n",
      "\n",
      "- El gato se sentó en la alfombra.\n"
     ]
    },
    {
     "name": "stderr",
     "output_type": "stream",
     "text": [
      "\n"
     ]
    }
   ],
   "source": [
    "from retriever import Retriever\n",
    "import pandas as pd\n",
    "\n",
    "df = pd.DataFrame({\n",
    "    \"product\": [\"A\",\"A\",\"B\",\"B\"],\n",
    "    \"chunk\": [\n",
    "        \"El gato se sentó en la alfombra.\",\n",
    "        \"Un felino descansando sobre una alfombra suave.\",\n",
    "        \"Hoy lloverá en Monterrey según el pronóstico.\",\n",
    "        \"Recetas fáciles de pollo a la parrilla.\"\n",
    "]})\n",
    "\n",
    "chunks, scores =Retriever(df).query(\"lloviendo el dia de hoy en Nuevo León\", top_k=6, return_scores=True)\n",
    "out= build_answer(\"lloviendo el día de hoy en Nuevo León\", chunks, max_refers=2)\n",
    "print(out)\n",
    "print(f\"\\n{out['answer']}\")\n",
    "print(\"\\nReferences:\\n\"+out[\"context\"])"
   ]
  }
 ],
 "metadata": {
  "kernelspec": {
   "display_name": "genai",
   "language": "python",
   "name": "genai"
  },
  "language_info": {
   "codemirror_mode": {
    "name": "ipython",
    "version": 3
   },
   "file_extension": ".py",
   "mimetype": "text/x-python",
   "name": "python",
   "nbconvert_exporter": "python",
   "pygments_lexer": "ipython3",
   "version": "3.10.18"
  }
 },
 "nbformat": 4,
 "nbformat_minor": 5
}
